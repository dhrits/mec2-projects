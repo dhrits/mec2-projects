{
  "nbformat": 4,
  "nbformat_minor": 0,
  "metadata": {
    "colab": {
      "provenance": [],
      "gpuType": "V100",
      "include_colab_link": true
    },
    "kernelspec": {
      "name": "python3",
      "display_name": "Python 3"
    },
    "language_info": {
      "name": "python"
    },
    "accelerator": "GPU"
  },
  "cells": [
    {
      "cell_type": "markdown",
      "metadata": {
        "id": "view-in-github",
        "colab_type": "text"
      },
      "source": [
        "<a href=\"https://colab.research.google.com/github/dhrits/mec2-projects/blob/main/DSagar_Student_MLE_MiniProject_Fine_Tuning.ipynb\" target=\"_parent\"><img src=\"https://colab.research.google.com/assets/colab-badge.svg\" alt=\"Open In Colab\"/></a>"
      ]
    },
    {
      "cell_type": "markdown",
      "source": [
        "# Mini Project: Transfer Learning with Keras\n",
        "\n",
        "Transfer learning is a machine learning technique where a model trained on one task is used as a starting point to solve a different but related task. Instead of training a model from scratch, transfer learning leverages the knowledge learned from the source task and applies it to the target task. This approach is especially useful when the target task has limited data or computational resources.\n",
        "\n",
        "In transfer learning, the pre-trained model, also known as the \"base model\" or \"source model,\" is typically trained on a large dataset and a more general problem (e.g., image classification on ImageNet, a vast dataset with millions of labeled images). The knowledge learned by the base model in the form of feature representations and weights captures common patterns and features in the data.\n",
        "\n",
        "To perform transfer learning, the following steps are commonly followed:\n",
        "\n",
        "1. Pre-training: The base model is trained on a source task using a large dataset, which can take a considerable amount of time and computational resources.\n",
        "\n",
        "2. Feature Extraction: After pre-training, the base model is used as a feature extractor. The last few layers (classifier layers) of the model are discarded, and the remaining layers (feature extraction layers) are retained. These layers serve as feature extractors, producing meaningful representations of the data.\n",
        "\n",
        "3. Fine-tuning: The feature extraction layers and sometimes some of the earlier layers are connected to a new set of layers, often called the \"classifier layers\" or \"task-specific layers.\" These layers are randomly initialized, and the model is trained on the target task with a smaller dataset. The weights of the base model can be frozen during fine-tuning, or they can be allowed to be updated with a lower learning rate to fine-tune the model for the target task.\n",
        "\n",
        "Transfer learning has several benefits:\n",
        "\n",
        "1. Reduced training time and resource requirements: Since the base model has already learned generic features, transfer learning can save time and resources compared to training a model from scratch.\n",
        "\n",
        "2. Improved generalization: Transfer learning helps the model generalize better to the target task, especially when the target dataset is small and dissimilar from the source dataset.\n",
        "\n",
        "3. Better performance: By starting from a model that is already trained on a large dataset, transfer learning can lead to better performance on the target task, especially in scenarios with limited data.\n",
        "\n",
        "4. Effective feature extraction: The feature extraction layers of the pre-trained model can serve as powerful feature extractors for different tasks, even when the task domains differ.\n",
        "\n",
        "Transfer learning is commonly used in various domains, including computer vision, natural language processing (NLP), and speech recognition, where pre-trained models are fine-tuned for specific applications like object detection, sentiment analysis, or speech-to-text.\n",
        "\n",
        "In this mini-project you will perform fine-tuning using Keras with a pre-trained VGG16 model on the CIFAR-10 dataset."
      ],
      "metadata": {
        "id": "fyXucUekO19i"
      }
    },
    {
      "cell_type": "markdown",
      "source": [
        "First, import all the libraries you'll need."
      ],
      "metadata": {
        "id": "TYuE9O6I2uRY"
      }
    },
    {
      "cell_type": "code",
      "execution_count": 20,
      "metadata": {
        "id": "kLWR1DfQPakn"
      },
      "outputs": [],
      "source": [
        "import numpy as np\n",
        "import tensorflow as tf\n",
        "from tensorflow.keras.datasets import cifar10\n",
        "from tensorflow.keras.applications import VGG16\n",
        "from tensorflow.keras.models import Model\n",
        "from tensorflow.keras.layers import Dense, GlobalAveragePooling2D\n",
        "from tensorflow.keras.optimizers import Adam\n",
        "from tensorflow.keras.utils import to_categorical\n",
        "from sklearn.model_selection import train_test_split"
      ]
    },
    {
      "cell_type": "markdown",
      "source": [
        "The CIFAR-10 dataset is a widely used benchmark dataset in the field of computer vision and machine learning. It stands for the \"Canadian Institute for Advanced Research 10\" dataset. CIFAR-10 was created by researchers at the CIFAR institute and was originally introduced as part of the Neural Information Processing Systems (NIPS) 2009 competition.\n",
        "\n",
        "The dataset consists of 60,000 color images, each of size 32x32 pixels, belonging to ten different classes. Each class contains 6,000 images. The ten classes in CIFAR-10 are:\n",
        "\n",
        "1. Airplane\n",
        "2. Automobile\n",
        "3. Bird\n",
        "4. Cat\n",
        "5. Deer\n",
        "6. Dog\n",
        "7. Frog\n",
        "8. Horse\n",
        "9. Ship\n",
        "10. Truck\n",
        "\n",
        "The images are evenly distributed across the classes, making CIFAR-10 a balanced dataset. The dataset is divided into two sets: a training set and a test set. The training set contains 50,000 images, while the test set contains the remaining 10,000 images.\n",
        "\n",
        "CIFAR-10 is often used for tasks such as image classification, object recognition, and transfer learning experiments. The relatively small size of the images and the variety of classes make it a challenging dataset for training machine learning models, especially deep neural networks. It also serves as a good dataset for teaching and learning purposes due to its manageable size and straightforward class labels."
      ],
      "metadata": {
        "id": "TEB60YsX2yUf"
      }
    },
    {
      "cell_type": "markdown",
      "source": [
        "Here are your tasks:\n",
        "\n",
        "1. Load the CIFAR-10 dataset after referencing the documentation [here](https://keras.io/api/datasets/cifar10/).\n",
        "2. Normalize the pixel values so they're all in the range [0, 1].\n",
        "3. Apply One Hot Encoding to the train and test labels using the [to_categorical](https://www.tensorflow.org/api_docs/python/tf/keras/utils/to_categorical) function.\n",
        "4. Further split the the training data into training and validation sets using [train_test_split](https://scikit-learn.org/stable/modules/generated/sklearn.model_selection.train_test_split.html). Use only 10% of the data for validation.  "
      ],
      "metadata": {
        "id": "Gp0MVIbiFonL"
      }
    },
    {
      "cell_type": "code",
      "source": [
        "# Load the CIFAR-10 dataset\n",
        "(x_train, y_train), (x_test, y_test) = cifar10.load_data()\n",
        "print(f'shape of train data: X: {x_train.shape}, y: {y_train.shape}')\n",
        "print(f'shape of test data: X: {x_test.shape}, y: {y_test.shape}')"
      ],
      "metadata": {
        "id": "ndNbwjaaSvs-",
        "colab": {
          "base_uri": "https://localhost:8080/"
        },
        "outputId": "558c9a5b-0188-44da-efc4-77e9a5aee021"
      },
      "execution_count": 29,
      "outputs": [
        {
          "output_type": "stream",
          "name": "stdout",
          "text": [
            "shape of train data: X: (50000, 32, 32, 3), y: (50000, 1)\n",
            "shape of test data: X: (10000, 32, 32, 3), y: (10000, 1)\n"
          ]
        }
      ]
    },
    {
      "cell_type": "code",
      "source": [
        "# Normalize the pixel values to [0, 1]\n",
        "def standardize(x, min=0., max=1.):\n",
        "  x = (x - x.min()) / (x.max() - x.min())\n",
        "  x = x * (max - min) + min\n",
        "  return x\n",
        "\n",
        "x_train = standardize(x_train)\n",
        "x_test = standardize(x_test)\n",
        "print(f'min, max values in training pixels {x_train.min()}, {x_train.max()}')\n",
        "print(f'min, max values in testing pixels {x_test.min()}, {x_test.max()}')"
      ],
      "metadata": {
        "id": "8H6KUgh2SxxR",
        "colab": {
          "base_uri": "https://localhost:8080/"
        },
        "outputId": "c4b50d1e-4ee0-4760-efd8-89e893222719"
      },
      "execution_count": 30,
      "outputs": [
        {
          "output_type": "stream",
          "name": "stdout",
          "text": [
            "min, max values in training pixels 0.0, 1.0\n",
            "min, max values in testing pixels 0.0, 1.0\n"
          ]
        }
      ]
    },
    {
      "cell_type": "code",
      "source": [
        "# One-hot encode the labels\n",
        "from tensorflow.keras.utils import to_categorical\n",
        "\n",
        "y_train = to_categorical(y_train, num_classes=10)\n",
        "y_test = to_categorical(y_test, num_classes=10)\n",
        "\n",
        "assert y_train.shape[-1] == 10\n",
        "assert y_test.shape[-1] == 10"
      ],
      "metadata": {
        "id": "mWDW1ZLySz7K"
      },
      "execution_count": 31,
      "outputs": []
    },
    {
      "cell_type": "code",
      "source": [
        "# Split the data into training and validation sets\n",
        "from sklearn.model_selection import train_test_split\n",
        "\n",
        "x_train, x_val, y_train, y_val = train_test_split(x_train, y_train, test_size=0.02, random_state=0)"
      ],
      "metadata": {
        "id": "4y3zao91ndZB"
      },
      "execution_count": 32,
      "outputs": []
    },
    {
      "cell_type": "markdown",
      "source": [
        "VGG16 (Visual Geometry Group 16) is a deep convolutional neural network architecture that was developed by the Visual Geometry Group at the University of Oxford. It was proposed by researchers Karen Simonyan and Andrew Zisserman in their paper titled \"Very Deep Convolutional Networks for Large-Scale Image Recognition,\" which was presented at the International Conference on Learning Representations (ICLR) in 2015.\n",
        "\n",
        "The VGG16 architecture gained significant popularity for its simplicity and effectiveness in image classification tasks. It was one of the pioneering models that demonstrated the power of deeper neural networks for visual recognition tasks.\n",
        "\n",
        "Key characteristics of the VGG16 architecture:\n",
        "\n",
        "1. Architecture: VGG16 consists of a total of 16 layers, hence the name \"16.\" These layers are stacked one after another, forming a deep neural network.\n",
        "\n",
        "2. Convolutional Layers: The main building blocks of VGG16 are the convolutional layers. It primarily uses 3x3 convolutional filters throughout the network, which allows it to capture local features effectively.\n",
        "\n",
        "3. Max Pooling: After each set of convolutional layers, VGG16 applies max-pooling layers with 2x2 filters and stride 2, which halves the spatial dimensions (width and height) of the feature maps and reduces the number of parameters.\n",
        "\n",
        "4. Fully Connected Layers: Towards the end of the network, VGG16 has fully connected layers that act as a classifier to make predictions based on the learned features.\n",
        "\n",
        "5. Activation Function: The network uses the Rectified Linear Unit (ReLU) activation function for all hidden layers, which helps with faster convergence during training.\n",
        "\n",
        "6. Number of Filters: The number of filters in each convolutional layer is relatively small compared to more recent architectures like ResNet or InceptionNet. However, stacking multiple layers allows VGG16 to learn complex hierarchical features.\n",
        "\n",
        "7. Output Layer: The output layer consists of 1000 units, corresponding to 1000 ImageNet classes. VGG16 was originally trained on the large-scale ImageNet dataset, which contains millions of images from 1000 different classes.\n",
        "\n",
        "VGG16 was instrumental in showing that increasing the depth of a neural network can significantly improve its performance on image recognition tasks. However, the main drawback of VGG16 is its high number of parameters, making it computationally expensive and memory-intensive to train. Despite this limitation, VGG16 remains an essential benchmark architecture and has paved the way for even deeper and more efficient models in the field of computer vision, such as ResNet, DenseNet, and EfficientNet."
      ],
      "metadata": {
        "id": "aiFJsxS5HPHW"
      }
    },
    {
      "cell_type": "markdown",
      "source": [
        "Here are your tasks:\n",
        "\n",
        "1. Load [VGG16](https://keras.io/api/applications/vgg/#vgg16-function) as a base model. Make sure to exclude the top layer.\n",
        "2. Freeze all the layers in the base model. We'll be using these weights as a feature extraction layer to forward to layers that are trainable."
      ],
      "metadata": {
        "id": "XJw9E1D9Q3tQ"
      }
    },
    {
      "cell_type": "code",
      "source": [
        "# Load the pre-trained VGG16 model (excluding the top classifier)\n",
        "from tensorflow.keras.applications.vgg16 import VGG16, preprocess_input\n",
        "\n",
        "model = VGG16(include_top=False, weights='imagenet')"
      ],
      "metadata": {
        "id": "bncm8oTonijm"
      },
      "execution_count": 33,
      "outputs": []
    },
    {
      "cell_type": "code",
      "source": [
        "# Freeze the layers in the base model\n",
        "for l in model.layers:\n",
        "  l.trainable = False"
      ],
      "metadata": {
        "id": "pCQXH4bwS6h5"
      },
      "execution_count": 34,
      "outputs": []
    },
    {
      "cell_type": "markdown",
      "source": [
        "Now, we'll add some trainable layers to the base model.\n",
        "\n",
        "1. Using the base model, add a [GlobalAveragePooling2D](https://keras.io/api/layers/pooling_layers/global_average_pooling2d/) layer, followed by a [Dense](https://keras.io/api/layers/core_layers/dense/) layer of length 256 with ReLU activation. Finally, add a classification layer with 10 units, corresponding to the 10 CIFAR-10 classes, with softmax activation.\n",
        "2. Create a Keras [Model](https://keras.io/api/models/model/) that takes in approproate inputs and outputs."
      ],
      "metadata": {
        "id": "MAnyLR6btWqd"
      }
    },
    {
      "cell_type": "code",
      "source": [
        "# Add a global average pooling layer\n",
        "from tensorflow.keras.layers import GlobalAvgPool2D, Dense\n",
        "gap = GlobalAveragePooling2D()(model.layers[-1].output)"
      ],
      "metadata": {
        "id": "GiD0CiSvTCRG"
      },
      "execution_count": 35,
      "outputs": []
    },
    {
      "cell_type": "code",
      "source": [
        "# Add a fully connected layer with 256 units and ReLU activation\n",
        "dense = Dense(256, activation='relu')(gap)"
      ],
      "metadata": {
        "id": "fKbX1RK4TCB9"
      },
      "execution_count": 36,
      "outputs": []
    },
    {
      "cell_type": "code",
      "source": [
        "# Add the final classification layer with 10 units (for CIFAR-10 classes) and softmax activation\n",
        "classification = Dense(10, activation='softmax')(dense)"
      ],
      "metadata": {
        "id": "yEYDagVQTB33"
      },
      "execution_count": 37,
      "outputs": []
    },
    {
      "cell_type": "code",
      "source": [
        "# Create the fine-tuned model\n",
        "from tensorflow.keras.models import Model\n",
        "cifar_model = Model(model.input, classification)\n",
        "cifar_model.summary()"
      ],
      "metadata": {
        "id": "A-op7iObo8io",
        "colab": {
          "base_uri": "https://localhost:8080/"
        },
        "outputId": "3b1a553f-6227-4111-c581-6137d311b09e"
      },
      "execution_count": 38,
      "outputs": [
        {
          "output_type": "stream",
          "name": "stdout",
          "text": [
            "Model: \"model_3\"\n",
            "_________________________________________________________________\n",
            " Layer (type)                Output Shape              Param #   \n",
            "=================================================================\n",
            " input_4 (InputLayer)        [(None, None, None, 3)]   0         \n",
            "                                                                 \n",
            " block1_conv1 (Conv2D)       (None, None, None, 64)    1792      \n",
            "                                                                 \n",
            " block1_conv2 (Conv2D)       (None, None, None, 64)    36928     \n",
            "                                                                 \n",
            " block1_pool (MaxPooling2D)  (None, None, None, 64)    0         \n",
            "                                                                 \n",
            " block2_conv1 (Conv2D)       (None, None, None, 128)   73856     \n",
            "                                                                 \n",
            " block2_conv2 (Conv2D)       (None, None, None, 128)   147584    \n",
            "                                                                 \n",
            " block2_pool (MaxPooling2D)  (None, None, None, 128)   0         \n",
            "                                                                 \n",
            " block3_conv1 (Conv2D)       (None, None, None, 256)   295168    \n",
            "                                                                 \n",
            " block3_conv2 (Conv2D)       (None, None, None, 256)   590080    \n",
            "                                                                 \n",
            " block3_conv3 (Conv2D)       (None, None, None, 256)   590080    \n",
            "                                                                 \n",
            " block3_pool (MaxPooling2D)  (None, None, None, 256)   0         \n",
            "                                                                 \n",
            " block4_conv1 (Conv2D)       (None, None, None, 512)   1180160   \n",
            "                                                                 \n",
            " block4_conv2 (Conv2D)       (None, None, None, 512)   2359808   \n",
            "                                                                 \n",
            " block4_conv3 (Conv2D)       (None, None, None, 512)   2359808   \n",
            "                                                                 \n",
            " block4_pool (MaxPooling2D)  (None, None, None, 512)   0         \n",
            "                                                                 \n",
            " block5_conv1 (Conv2D)       (None, None, None, 512)   2359808   \n",
            "                                                                 \n",
            " block5_conv2 (Conv2D)       (None, None, None, 512)   2359808   \n",
            "                                                                 \n",
            " block5_conv3 (Conv2D)       (None, None, None, 512)   2359808   \n",
            "                                                                 \n",
            " block5_pool (MaxPooling2D)  (None, None, None, 512)   0         \n",
            "                                                                 \n",
            " global_average_pooling2d_3  (None, 512)               0         \n",
            "  (GlobalAveragePooling2D)                                       \n",
            "                                                                 \n",
            " dense_6 (Dense)             (None, 256)               131328    \n",
            "                                                                 \n",
            " dense_7 (Dense)             (None, 10)                2570      \n",
            "                                                                 \n",
            "=================================================================\n",
            "Total params: 14848586 (56.64 MB)\n",
            "Trainable params: 133898 (523.04 KB)\n",
            "Non-trainable params: 14714688 (56.13 MB)\n",
            "_________________________________________________________________\n"
          ]
        }
      ]
    },
    {
      "cell_type": "markdown",
      "source": [
        "With your model complete it's time to train it and assess its performance.\n",
        "\n",
        "1. Compile your model using an appropriate loss function. Feel free to play around with the optimizer, but a good starting optimizer might be Adam with a learning rate of 0.001.\n",
        "2. Fit your model on the training data. Use the validation data to print the accuracy for each epoch. Try training for 10 epochs. Note, training can take a few hours so go ahead and grab a cup of coffee.\n",
        "\n",
        "**Optional**: See if you can implement an [Early Stopping](https://keras.io/api/callbacks/early_stopping/) criteria as a callback function."
      ],
      "metadata": {
        "id": "jjgG_9IMwuLS"
      }
    },
    {
      "cell_type": "code",
      "source": [
        "# Compile the model\n",
        "from tensorflow.keras.optimizers import Adam\n",
        "cifar_model.compile(optimizer=Adam(learning_rate=0.001), loss='categorical_crossentropy', metrics=['accuracy'])"
      ],
      "metadata": {
        "id": "xTFBXCe6TG5m"
      },
      "execution_count": 39,
      "outputs": []
    },
    {
      "cell_type": "code",
      "source": [
        "# Train the model\n",
        "from tensorflow.keras.callbacks import EarlyStopping\n",
        "early_stopping = EarlyStopping(monitor='val_loss', patience=6)\n",
        "\n",
        "history = cifar_model.fit(x_train, y_train, batch_size=512,\n",
        "                          epochs=10,\n",
        "                          validation_data=(x_val, y_val),\n",
        "                          callbacks=[early_stopping])"
      ],
      "metadata": {
        "id": "M5JnXlGPpkDg",
        "colab": {
          "base_uri": "https://localhost:8080/"
        },
        "outputId": "b9cecc0c-8966-438f-ef14-9c5c39f8f319"
      },
      "execution_count": 40,
      "outputs": [
        {
          "output_type": "stream",
          "name": "stdout",
          "text": [
            "Epoch 1/10\n",
            "96/96 [==============================] - 5s 46ms/step - loss: 1.5627 - accuracy: 0.4636 - val_loss: 1.3408 - val_accuracy: 0.5370\n",
            "Epoch 2/10\n",
            "96/96 [==============================] - 2s 21ms/step - loss: 1.2816 - accuracy: 0.5579 - val_loss: 1.2555 - val_accuracy: 0.5490\n",
            "Epoch 3/10\n",
            "96/96 [==============================] - 2s 22ms/step - loss: 1.2097 - accuracy: 0.5818 - val_loss: 1.2066 - val_accuracy: 0.5800\n",
            "Epoch 4/10\n",
            "96/96 [==============================] - 2s 23ms/step - loss: 1.1691 - accuracy: 0.5963 - val_loss: 1.1875 - val_accuracy: 0.5910\n",
            "Epoch 5/10\n",
            "96/96 [==============================] - 2s 21ms/step - loss: 1.1381 - accuracy: 0.6054 - val_loss: 1.1646 - val_accuracy: 0.5810\n",
            "Epoch 6/10\n",
            "96/96 [==============================] - 2s 21ms/step - loss: 1.1112 - accuracy: 0.6130 - val_loss: 1.1518 - val_accuracy: 0.6070\n",
            "Epoch 7/10\n",
            "96/96 [==============================] - 2s 23ms/step - loss: 1.0936 - accuracy: 0.6195 - val_loss: 1.1612 - val_accuracy: 0.5880\n",
            "Epoch 8/10\n",
            "96/96 [==============================] - 2s 22ms/step - loss: 1.0720 - accuracy: 0.6276 - val_loss: 1.1439 - val_accuracy: 0.5990\n",
            "Epoch 9/10\n",
            "96/96 [==============================] - 2s 22ms/step - loss: 1.0548 - accuracy: 0.6355 - val_loss: 1.1319 - val_accuracy: 0.6120\n",
            "Epoch 10/10\n",
            "96/96 [==============================] - 2s 21ms/step - loss: 1.0419 - accuracy: 0.6375 - val_loss: 1.1172 - val_accuracy: 0.6130\n"
          ]
        }
      ]
    },
    {
      "cell_type": "markdown",
      "source": [
        "With your model trained, it's time to assess how well it performs on the test data.\n",
        "\n",
        "1. Use your trained model to calculate the accuracy on the test set. Is the model performance better than random?\n",
        "2. Experiment! See if you can tweak your model to improve performance.  "
      ],
      "metadata": {
        "id": "N8-T6EnmypvW"
      }
    },
    {
      "cell_type": "code",
      "source": [
        "# Evaluate the model on the test set\n",
        "cifar_model.evaluate(x_test, y_test)"
      ],
      "metadata": {
        "id": "auYNYD0JpnaX",
        "colab": {
          "base_uri": "https://localhost:8080/"
        },
        "outputId": "91f43a8b-a0d5-472f-e74d-9c9f373633fe"
      },
      "execution_count": 41,
      "outputs": [
        {
          "output_type": "stream",
          "name": "stdout",
          "text": [
            "313/313 [==============================] - 2s 6ms/step - loss: 1.1278 - accuracy: 0.6045\n"
          ]
        },
        {
          "output_type": "execute_result",
          "data": {
            "text/plain": [
              "[1.1278353929519653, 0.6044999957084656]"
            ]
          },
          "metadata": {},
          "execution_count": 41
        }
      ]
    },
    {
      "cell_type": "markdown",
      "source": [
        "Seems the model achieves an accuracy of roughly 60% on test data. **Lets try more epochs to allow the early stopping to kick in**"
      ],
      "metadata": {
        "id": "WOrnJX08iaoY"
      }
    },
    {
      "cell_type": "code",
      "source": [
        "from tensorflow.keras.applications.vgg16 import VGG16, preprocess_input\n",
        "from tensorflow.keras.layers import GlobalAvgPool2D, Dense, BatchNormalization\n",
        "from tensorflow.keras.models import Model\n",
        "from tensorflow.keras.regularizers import L2\n",
        "\n",
        "def build_model(learning_rate=0.001, kernel_regularizer=None, freeze_until=None,\n",
        "                hidden_layers=(256,), norm=False):\n",
        "  model = VGG16(include_top=False, weights='imagenet')\n",
        "  for l in model.layers[:freeze_until]:\n",
        "    l.trainable = False\n",
        "  gap = GlobalAveragePooling2D()(model.layers[-1].output)\n",
        "  inp = gap\n",
        "  for l in hidden_layers:\n",
        "    inp = Dense(l, activation='relu', kernel_regularizer=kernel_regularizer)(inp)\n",
        "    if norm:\n",
        "      inp = BatchNormalization()(inp)\n",
        "  classification = Dense(10, activation='softmax', kernel_regularizer=kernel_regularizer)(inp)\n",
        "  cifar_model = Model(model.input, classification)\n",
        "  cifar_model.summary()\n",
        "  cifar_model.compile(optimizer=Adam(learning_rate=learning_rate), loss='categorical_crossentropy', metrics=['accuracy'])\n",
        "  return cifar_model"
      ],
      "metadata": {
        "id": "BgUu6bqgjK7U"
      },
      "execution_count": 50,
      "outputs": []
    },
    {
      "cell_type": "code",
      "source": [
        "cifar_model = build_model()\n",
        "history = cifar_model.fit(x_train, y_train, batch_size=1024,\n",
        "                          epochs=100,\n",
        "                          validation_data=(x_val, y_val),\n",
        "                          callbacks=[early_stopping])"
      ],
      "metadata": {
        "colab": {
          "base_uri": "https://localhost:8080/"
        },
        "id": "7B2bsF3piWVb",
        "outputId": "10dc8eab-f7d0-46b9-c46c-039283cf10e6"
      },
      "execution_count": 43,
      "outputs": [
        {
          "output_type": "stream",
          "name": "stdout",
          "text": [
            "Model: \"model_4\"\n",
            "_________________________________________________________________\n",
            " Layer (type)                Output Shape              Param #   \n",
            "=================================================================\n",
            " input_5 (InputLayer)        [(None, None, None, 3)]   0         \n",
            "                                                                 \n",
            " block1_conv1 (Conv2D)       (None, None, None, 64)    1792      \n",
            "                                                                 \n",
            " block1_conv2 (Conv2D)       (None, None, None, 64)    36928     \n",
            "                                                                 \n",
            " block1_pool (MaxPooling2D)  (None, None, None, 64)    0         \n",
            "                                                                 \n",
            " block2_conv1 (Conv2D)       (None, None, None, 128)   73856     \n",
            "                                                                 \n",
            " block2_conv2 (Conv2D)       (None, None, None, 128)   147584    \n",
            "                                                                 \n",
            " block2_pool (MaxPooling2D)  (None, None, None, 128)   0         \n",
            "                                                                 \n",
            " block3_conv1 (Conv2D)       (None, None, None, 256)   295168    \n",
            "                                                                 \n",
            " block3_conv2 (Conv2D)       (None, None, None, 256)   590080    \n",
            "                                                                 \n",
            " block3_conv3 (Conv2D)       (None, None, None, 256)   590080    \n",
            "                                                                 \n",
            " block3_pool (MaxPooling2D)  (None, None, None, 256)   0         \n",
            "                                                                 \n",
            " block4_conv1 (Conv2D)       (None, None, None, 512)   1180160   \n",
            "                                                                 \n",
            " block4_conv2 (Conv2D)       (None, None, None, 512)   2359808   \n",
            "                                                                 \n",
            " block4_conv3 (Conv2D)       (None, None, None, 512)   2359808   \n",
            "                                                                 \n",
            " block4_pool (MaxPooling2D)  (None, None, None, 512)   0         \n",
            "                                                                 \n",
            " block5_conv1 (Conv2D)       (None, None, None, 512)   2359808   \n",
            "                                                                 \n",
            " block5_conv2 (Conv2D)       (None, None, None, 512)   2359808   \n",
            "                                                                 \n",
            " block5_conv3 (Conv2D)       (None, None, None, 512)   2359808   \n",
            "                                                                 \n",
            " block5_pool (MaxPooling2D)  (None, None, None, 512)   0         \n",
            "                                                                 \n",
            " global_average_pooling2d_4  (None, 512)               0         \n",
            "  (GlobalAveragePooling2D)                                       \n",
            "                                                                 \n",
            " dense_8 (Dense)             (None, 256)               131328    \n",
            "                                                                 \n",
            " dense_9 (Dense)             (None, 10)                2570      \n",
            "                                                                 \n",
            "=================================================================\n",
            "Total params: 14848586 (56.64 MB)\n",
            "Trainable params: 133898 (523.04 KB)\n",
            "Non-trainable params: 14714688 (56.13 MB)\n",
            "_________________________________________________________________\n",
            "Epoch 1/100\n",
            "48/48 [==============================] - 9s 136ms/step - loss: 1.7437 - accuracy: 0.4008 - val_loss: 1.4346 - val_accuracy: 0.5130\n",
            "Epoch 2/100\n",
            "48/48 [==============================] - 2s 47ms/step - loss: 1.3539 - accuracy: 0.5341 - val_loss: 1.2952 - val_accuracy: 0.5670\n",
            "Epoch 3/100\n",
            "48/48 [==============================] - 2s 42ms/step - loss: 1.2604 - accuracy: 0.5654 - val_loss: 1.2459 - val_accuracy: 0.5790\n",
            "Epoch 4/100\n",
            "48/48 [==============================] - 2s 38ms/step - loss: 1.2132 - accuracy: 0.5816 - val_loss: 1.2122 - val_accuracy: 0.5800\n",
            "Epoch 5/100\n",
            "48/48 [==============================] - 2s 41ms/step - loss: 1.1769 - accuracy: 0.5935 - val_loss: 1.1941 - val_accuracy: 0.5930\n",
            "Epoch 6/100\n",
            "48/48 [==============================] - 2s 41ms/step - loss: 1.1531 - accuracy: 0.6011 - val_loss: 1.1831 - val_accuracy: 0.5890\n",
            "Epoch 7/100\n",
            "48/48 [==============================] - 2s 39ms/step - loss: 1.1344 - accuracy: 0.6068 - val_loss: 1.1758 - val_accuracy: 0.5950\n",
            "Epoch 8/100\n",
            "48/48 [==============================] - 2s 44ms/step - loss: 1.1190 - accuracy: 0.6125 - val_loss: 1.1603 - val_accuracy: 0.5960\n",
            "Epoch 9/100\n",
            "48/48 [==============================] - 2s 39ms/step - loss: 1.1045 - accuracy: 0.6185 - val_loss: 1.1434 - val_accuracy: 0.6050\n",
            "Epoch 10/100\n",
            "48/48 [==============================] - 2s 37ms/step - loss: 1.0881 - accuracy: 0.6244 - val_loss: 1.1422 - val_accuracy: 0.6020\n",
            "Epoch 11/100\n",
            "48/48 [==============================] - 2s 37ms/step - loss: 1.0758 - accuracy: 0.6275 - val_loss: 1.1317 - val_accuracy: 0.6170\n",
            "Epoch 12/100\n",
            "48/48 [==============================] - 2s 37ms/step - loss: 1.0619 - accuracy: 0.6324 - val_loss: 1.1266 - val_accuracy: 0.6120\n",
            "Epoch 13/100\n",
            "48/48 [==============================] - 2s 38ms/step - loss: 1.0515 - accuracy: 0.6368 - val_loss: 1.1271 - val_accuracy: 0.6080\n",
            "Epoch 14/100\n",
            "48/48 [==============================] - 2s 37ms/step - loss: 1.0401 - accuracy: 0.6406 - val_loss: 1.1204 - val_accuracy: 0.6160\n",
            "Epoch 15/100\n",
            "48/48 [==============================] - 2s 41ms/step - loss: 1.0310 - accuracy: 0.6428 - val_loss: 1.1260 - val_accuracy: 0.6150\n",
            "Epoch 16/100\n",
            "48/48 [==============================] - 2s 37ms/step - loss: 1.0195 - accuracy: 0.6480 - val_loss: 1.1323 - val_accuracy: 0.5980\n",
            "Epoch 17/100\n",
            "48/48 [==============================] - 2s 37ms/step - loss: 1.0096 - accuracy: 0.6508 - val_loss: 1.1140 - val_accuracy: 0.6180\n",
            "Epoch 18/100\n",
            "48/48 [==============================] - 2s 37ms/step - loss: 0.9989 - accuracy: 0.6539 - val_loss: 1.1036 - val_accuracy: 0.6120\n",
            "Epoch 19/100\n",
            "48/48 [==============================] - 2s 38ms/step - loss: 0.9896 - accuracy: 0.6580 - val_loss: 1.1083 - val_accuracy: 0.6240\n",
            "Epoch 20/100\n",
            "48/48 [==============================] - 2s 38ms/step - loss: 0.9824 - accuracy: 0.6604 - val_loss: 1.1000 - val_accuracy: 0.6230\n",
            "Epoch 21/100\n",
            "48/48 [==============================] - 2s 39ms/step - loss: 0.9724 - accuracy: 0.6646 - val_loss: 1.1165 - val_accuracy: 0.6120\n",
            "Epoch 22/100\n",
            "48/48 [==============================] - 2s 38ms/step - loss: 0.9626 - accuracy: 0.6680 - val_loss: 1.1038 - val_accuracy: 0.6070\n",
            "Epoch 23/100\n",
            "48/48 [==============================] - 2s 37ms/step - loss: 0.9541 - accuracy: 0.6707 - val_loss: 1.0994 - val_accuracy: 0.6150\n",
            "Epoch 24/100\n",
            "48/48 [==============================] - 2s 37ms/step - loss: 0.9493 - accuracy: 0.6719 - val_loss: 1.1212 - val_accuracy: 0.6060\n",
            "Epoch 25/100\n",
            "48/48 [==============================] - 2s 37ms/step - loss: 0.9406 - accuracy: 0.6756 - val_loss: 1.0996 - val_accuracy: 0.6180\n",
            "Epoch 26/100\n",
            "48/48 [==============================] - 2s 38ms/step - loss: 0.9305 - accuracy: 0.6794 - val_loss: 1.1148 - val_accuracy: 0.6000\n",
            "Epoch 27/100\n",
            "48/48 [==============================] - 2s 38ms/step - loss: 0.9242 - accuracy: 0.6807 - val_loss: 1.1078 - val_accuracy: 0.6150\n",
            "Epoch 28/100\n",
            "48/48 [==============================] - 2s 39ms/step - loss: 0.9155 - accuracy: 0.6844 - val_loss: 1.0991 - val_accuracy: 0.6160\n",
            "Epoch 29/100\n",
            "48/48 [==============================] - 2s 38ms/step - loss: 0.9085 - accuracy: 0.6882 - val_loss: 1.0969 - val_accuracy: 0.6200\n",
            "Epoch 30/100\n",
            "48/48 [==============================] - 2s 37ms/step - loss: 0.9008 - accuracy: 0.6913 - val_loss: 1.0974 - val_accuracy: 0.6250\n",
            "Epoch 31/100\n",
            "48/48 [==============================] - 2s 36ms/step - loss: 0.8927 - accuracy: 0.6940 - val_loss: 1.0891 - val_accuracy: 0.6250\n",
            "Epoch 32/100\n",
            "48/48 [==============================] - 2s 36ms/step - loss: 0.8871 - accuracy: 0.6936 - val_loss: 1.1041 - val_accuracy: 0.6190\n",
            "Epoch 33/100\n",
            "48/48 [==============================] - 2s 37ms/step - loss: 0.8821 - accuracy: 0.6971 - val_loss: 1.0932 - val_accuracy: 0.6080\n",
            "Epoch 34/100\n",
            "48/48 [==============================] - 2s 38ms/step - loss: 0.8715 - accuracy: 0.7020 - val_loss: 1.0928 - val_accuracy: 0.6210\n",
            "Epoch 35/100\n",
            "48/48 [==============================] - 2s 40ms/step - loss: 0.8643 - accuracy: 0.7044 - val_loss: 1.1102 - val_accuracy: 0.6120\n",
            "Epoch 36/100\n",
            "48/48 [==============================] - 2s 37ms/step - loss: 0.8569 - accuracy: 0.7066 - val_loss: 1.1000 - val_accuracy: 0.6070\n",
            "Epoch 37/100\n",
            "48/48 [==============================] - 2s 37ms/step - loss: 0.8516 - accuracy: 0.7086 - val_loss: 1.0954 - val_accuracy: 0.6290\n"
          ]
        }
      ]
    },
    {
      "cell_type": "code",
      "source": [
        "cifar_model.evaluate(x_test, y_test)"
      ],
      "metadata": {
        "colab": {
          "base_uri": "https://localhost:8080/"
        },
        "id": "J93-5J_Li7zr",
        "outputId": "d4e78d71-ec9e-4be4-e567-7dfb73942efb"
      },
      "execution_count": 44,
      "outputs": [
        {
          "output_type": "stream",
          "name": "stdout",
          "text": [
            "313/313 [==============================] - 2s 5ms/step - loss: 1.1139 - accuracy: 0.6165\n"
          ]
        },
        {
          "output_type": "execute_result",
          "data": {
            "text/plain": [
              "[1.113943099975586, 0.6165000200271606]"
            ]
          },
          "metadata": {},
          "execution_count": 44
        }
      ]
    },
    {
      "cell_type": "markdown",
      "source": [
        "The above model does better  but starts to overfit as can be seen in the output. Lets add regularization and increase learning rate.\n"
      ],
      "metadata": {
        "id": "T3Cphwfwi_P-"
      }
    },
    {
      "cell_type": "code",
      "source": [
        "cifar_model = build_model(learning_rate=0.01, freeze_until=-3)\n",
        "history = cifar_model.fit(x_train, y_train, batch_size=32,\n",
        "                          epochs=200,\n",
        "                          validation_data=(x_val, y_val),\n",
        "                          callbacks=EarlyStopping(patience=15, monitor='val_accuracy'))"
      ],
      "metadata": {
        "colab": {
          "base_uri": "https://localhost:8080/"
        },
        "id": "QzLULZomjIgW",
        "outputId": "2e7a6872-092f-45e0-89ea-3bfb8ef6bfed"
      },
      "execution_count": 51,
      "outputs": [
        {
          "output_type": "stream",
          "name": "stdout",
          "text": [
            "Model: \"model_9\"\n",
            "_________________________________________________________________\n",
            " Layer (type)                Output Shape              Param #   \n",
            "=================================================================\n",
            " input_10 (InputLayer)       [(None, None, None, 3)]   0         \n",
            "                                                                 \n",
            " block1_conv1 (Conv2D)       (None, None, None, 64)    1792      \n",
            "                                                                 \n",
            " block1_conv2 (Conv2D)       (None, None, None, 64)    36928     \n",
            "                                                                 \n",
            " block1_pool (MaxPooling2D)  (None, None, None, 64)    0         \n",
            "                                                                 \n",
            " block2_conv1 (Conv2D)       (None, None, None, 128)   73856     \n",
            "                                                                 \n",
            " block2_conv2 (Conv2D)       (None, None, None, 128)   147584    \n",
            "                                                                 \n",
            " block2_pool (MaxPooling2D)  (None, None, None, 128)   0         \n",
            "                                                                 \n",
            " block3_conv1 (Conv2D)       (None, None, None, 256)   295168    \n",
            "                                                                 \n",
            " block3_conv2 (Conv2D)       (None, None, None, 256)   590080    \n",
            "                                                                 \n",
            " block3_conv3 (Conv2D)       (None, None, None, 256)   590080    \n",
            "                                                                 \n",
            " block3_pool (MaxPooling2D)  (None, None, None, 256)   0         \n",
            "                                                                 \n",
            " block4_conv1 (Conv2D)       (None, None, None, 512)   1180160   \n",
            "                                                                 \n",
            " block4_conv2 (Conv2D)       (None, None, None, 512)   2359808   \n",
            "                                                                 \n",
            " block4_conv3 (Conv2D)       (None, None, None, 512)   2359808   \n",
            "                                                                 \n",
            " block4_pool (MaxPooling2D)  (None, None, None, 512)   0         \n",
            "                                                                 \n",
            " block5_conv1 (Conv2D)       (None, None, None, 512)   2359808   \n",
            "                                                                 \n",
            " block5_conv2 (Conv2D)       (None, None, None, 512)   2359808   \n",
            "                                                                 \n",
            " block5_conv3 (Conv2D)       (None, None, None, 512)   2359808   \n",
            "                                                                 \n",
            " block5_pool (MaxPooling2D)  (None, None, None, 512)   0         \n",
            "                                                                 \n",
            " global_average_pooling2d_9  (None, 512)               0         \n",
            "  (GlobalAveragePooling2D)                                       \n",
            "                                                                 \n",
            " dense_15 (Dense)            (None, 256)               131328    \n",
            "                                                                 \n",
            " dense_16 (Dense)            (None, 10)                2570      \n",
            "                                                                 \n",
            "=================================================================\n",
            "Total params: 14848586 (56.64 MB)\n",
            "Trainable params: 4853514 (18.51 MB)\n",
            "Non-trainable params: 9995072 (38.13 MB)\n",
            "_________________________________________________________________\n",
            "Epoch 1/200\n",
            "1532/1532 [==============================] - 14s 7ms/step - loss: 1.6864 - accuracy: 0.5019 - val_loss: 1.2499 - val_accuracy: 0.5820\n",
            "Epoch 2/200\n",
            "1532/1532 [==============================] - 11s 7ms/step - loss: 1.1864 - accuracy: 0.6051 - val_loss: 1.2063 - val_accuracy: 0.6050\n",
            "Epoch 3/200\n",
            "1532/1532 [==============================] - 11s 7ms/step - loss: 1.1389 - accuracy: 0.6251 - val_loss: 1.1566 - val_accuracy: 0.6130\n",
            "Epoch 4/200\n",
            "1532/1532 [==============================] - 11s 7ms/step - loss: 1.1054 - accuracy: 0.6380 - val_loss: 1.1317 - val_accuracy: 0.6230\n",
            "Epoch 5/200\n",
            "1532/1532 [==============================] - 11s 7ms/step - loss: 1.0814 - accuracy: 0.6477 - val_loss: 1.2125 - val_accuracy: 0.6070\n",
            "Epoch 6/200\n",
            "1532/1532 [==============================] - 11s 7ms/step - loss: 1.0650 - accuracy: 0.6534 - val_loss: 1.1381 - val_accuracy: 0.6360\n",
            "Epoch 7/200\n",
            "1532/1532 [==============================] - 12s 8ms/step - loss: 1.0483 - accuracy: 0.6609 - val_loss: 1.1228 - val_accuracy: 0.6360\n",
            "Epoch 8/200\n",
            "1532/1532 [==============================] - 11s 7ms/step - loss: 1.0345 - accuracy: 0.6642 - val_loss: 1.1021 - val_accuracy: 0.6510\n",
            "Epoch 9/200\n",
            "1532/1532 [==============================] - 11s 7ms/step - loss: 1.0456 - accuracy: 0.6631 - val_loss: 1.0486 - val_accuracy: 0.6560\n",
            "Epoch 10/200\n",
            "1532/1532 [==============================] - 11s 7ms/step - loss: 1.0138 - accuracy: 0.6753 - val_loss: 1.1269 - val_accuracy: 0.6470\n",
            "Epoch 11/200\n",
            "1532/1532 [==============================] - 11s 7ms/step - loss: 1.0085 - accuracy: 0.6783 - val_loss: 1.1911 - val_accuracy: 0.6370\n",
            "Epoch 12/200\n",
            "1532/1532 [==============================] - 11s 7ms/step - loss: 1.0050 - accuracy: 0.6802 - val_loss: 1.2315 - val_accuracy: 0.6240\n",
            "Epoch 13/200\n",
            "1532/1532 [==============================] - 11s 7ms/step - loss: 1.0062 - accuracy: 0.6795 - val_loss: 1.1585 - val_accuracy: 0.6310\n",
            "Epoch 14/200\n",
            "1532/1532 [==============================] - 11s 7ms/step - loss: 0.9973 - accuracy: 0.6850 - val_loss: 1.2047 - val_accuracy: 0.6180\n",
            "Epoch 15/200\n",
            "1532/1532 [==============================] - 11s 7ms/step - loss: 0.9828 - accuracy: 0.6877 - val_loss: 1.0611 - val_accuracy: 0.6540\n",
            "Epoch 16/200\n",
            "1532/1532 [==============================] - 11s 7ms/step - loss: 0.9821 - accuracy: 0.6891 - val_loss: 1.1365 - val_accuracy: 0.6560\n",
            "Epoch 17/200\n",
            "1532/1532 [==============================] - 12s 8ms/step - loss: 0.9799 - accuracy: 0.6903 - val_loss: 1.1562 - val_accuracy: 0.6260\n",
            "Epoch 18/200\n",
            "1532/1532 [==============================] - 11s 7ms/step - loss: 0.9772 - accuracy: 0.6915 - val_loss: 1.1359 - val_accuracy: 0.6440\n",
            "Epoch 19/200\n",
            "1532/1532 [==============================] - 11s 7ms/step - loss: 0.9976 - accuracy: 0.6782 - val_loss: 1.1212 - val_accuracy: 0.6340\n",
            "Epoch 20/200\n",
            "1532/1532 [==============================] - 11s 7ms/step - loss: 0.9894 - accuracy: 0.6852 - val_loss: 1.1247 - val_accuracy: 0.6470\n",
            "Epoch 21/200\n",
            "1532/1532 [==============================] - 11s 7ms/step - loss: 0.9676 - accuracy: 0.6937 - val_loss: 1.1639 - val_accuracy: 0.6140\n",
            "Epoch 22/200\n",
            "1532/1532 [==============================] - 11s 7ms/step - loss: 1.0241 - accuracy: 0.6655 - val_loss: 1.0949 - val_accuracy: 0.6290\n",
            "Epoch 23/200\n",
            "1532/1532 [==============================] - 11s 7ms/step - loss: 0.9942 - accuracy: 0.6644 - val_loss: 1.1482 - val_accuracy: 0.6260\n",
            "Epoch 24/200\n",
            "1532/1532 [==============================] - 11s 7ms/step - loss: 0.9824 - accuracy: 0.6722 - val_loss: 1.1446 - val_accuracy: 0.6280\n"
          ]
        }
      ]
    },
    {
      "cell_type": "code",
      "source": [
        "cifar_model.evaluate(x_test, y_test)"
      ],
      "metadata": {
        "colab": {
          "base_uri": "https://localhost:8080/"
        },
        "id": "Hv-PtDAxqTMf",
        "outputId": "0a6517ca-d750-435b-8c32-b45d4ec20a26"
      },
      "execution_count": 52,
      "outputs": [
        {
          "output_type": "stream",
          "name": "stdout",
          "text": [
            "313/313 [==============================] - 2s 5ms/step - loss: 1.1526 - accuracy: 0.6263\n"
          ]
        },
        {
          "output_type": "execute_result",
          "data": {
            "text/plain": [
              "[1.1525980234146118, 0.6262999773025513]"
            ]
          },
          "metadata": {},
          "execution_count": 52
        }
      ]
    },
    {
      "cell_type": "markdown",
      "source": [
        "Now lets try freezing fewer layers and a smaller batch-size for more gradient updates."
      ],
      "metadata": {
        "id": "S0QjbcyFppex"
      }
    },
    {
      "cell_type": "code",
      "source": [
        "cifar_model = build_model(learning_rate=0.001, freeze_until=-4)\n",
        "history = cifar_model.fit(x_train, y_train, batch_size=64,\n",
        "                          epochs=200,\n",
        "                          validation_data=(x_val, y_val),\n",
        "                          callbacks=EarlyStopping(patience=15, monitor='val_accuracy'))"
      ],
      "metadata": {
        "colab": {
          "base_uri": "https://localhost:8080/"
        },
        "id": "AIGVPqCD-SK0",
        "outputId": "949d8ab0-4f7e-4cfd-b518-0a11512958e4"
      },
      "execution_count": 53,
      "outputs": [
        {
          "output_type": "stream",
          "name": "stdout",
          "text": [
            "Model: \"model_10\"\n",
            "_________________________________________________________________\n",
            " Layer (type)                Output Shape              Param #   \n",
            "=================================================================\n",
            " input_11 (InputLayer)       [(None, None, None, 3)]   0         \n",
            "                                                                 \n",
            " block1_conv1 (Conv2D)       (None, None, None, 64)    1792      \n",
            "                                                                 \n",
            " block1_conv2 (Conv2D)       (None, None, None, 64)    36928     \n",
            "                                                                 \n",
            " block1_pool (MaxPooling2D)  (None, None, None, 64)    0         \n",
            "                                                                 \n",
            " block2_conv1 (Conv2D)       (None, None, None, 128)   73856     \n",
            "                                                                 \n",
            " block2_conv2 (Conv2D)       (None, None, None, 128)   147584    \n",
            "                                                                 \n",
            " block2_pool (MaxPooling2D)  (None, None, None, 128)   0         \n",
            "                                                                 \n",
            " block3_conv1 (Conv2D)       (None, None, None, 256)   295168    \n",
            "                                                                 \n",
            " block3_conv2 (Conv2D)       (None, None, None, 256)   590080    \n",
            "                                                                 \n",
            " block3_conv3 (Conv2D)       (None, None, None, 256)   590080    \n",
            "                                                                 \n",
            " block3_pool (MaxPooling2D)  (None, None, None, 256)   0         \n",
            "                                                                 \n",
            " block4_conv1 (Conv2D)       (None, None, None, 512)   1180160   \n",
            "                                                                 \n",
            " block4_conv2 (Conv2D)       (None, None, None, 512)   2359808   \n",
            "                                                                 \n",
            " block4_conv3 (Conv2D)       (None, None, None, 512)   2359808   \n",
            "                                                                 \n",
            " block4_pool (MaxPooling2D)  (None, None, None, 512)   0         \n",
            "                                                                 \n",
            " block5_conv1 (Conv2D)       (None, None, None, 512)   2359808   \n",
            "                                                                 \n",
            " block5_conv2 (Conv2D)       (None, None, None, 512)   2359808   \n",
            "                                                                 \n",
            " block5_conv3 (Conv2D)       (None, None, None, 512)   2359808   \n",
            "                                                                 \n",
            " block5_pool (MaxPooling2D)  (None, None, None, 512)   0         \n",
            "                                                                 \n",
            " global_average_pooling2d_1  (None, 512)               0         \n",
            " 0 (GlobalAveragePooling2D)                                      \n",
            "                                                                 \n",
            " dense_17 (Dense)            (None, 256)               131328    \n",
            "                                                                 \n",
            " dense_18 (Dense)            (None, 10)                2570      \n",
            "                                                                 \n",
            "=================================================================\n",
            "Total params: 14848586 (56.64 MB)\n",
            "Trainable params: 7213322 (27.52 MB)\n",
            "Non-trainable params: 7635264 (29.13 MB)\n",
            "_________________________________________________________________\n",
            "Epoch 1/200\n",
            "766/766 [==============================] - 10s 10ms/step - loss: 1.0987 - accuracy: 0.6174 - val_loss: 0.9434 - val_accuracy: 0.6690\n",
            "Epoch 2/200\n",
            "766/766 [==============================] - 6s 8ms/step - loss: 0.8062 - accuracy: 0.7238 - val_loss: 0.8242 - val_accuracy: 0.7180\n",
            "Epoch 3/200\n",
            "766/766 [==============================] - 7s 9ms/step - loss: 0.6972 - accuracy: 0.7606 - val_loss: 0.8662 - val_accuracy: 0.7130\n",
            "Epoch 4/200\n",
            "766/766 [==============================] - 7s 9ms/step - loss: 0.6153 - accuracy: 0.7858 - val_loss: 0.8348 - val_accuracy: 0.7150\n",
            "Epoch 5/200\n",
            "766/766 [==============================] - 7s 9ms/step - loss: 0.5447 - accuracy: 0.8105 - val_loss: 0.7709 - val_accuracy: 0.7480\n",
            "Epoch 6/200\n",
            "766/766 [==============================] - 7s 9ms/step - loss: 0.4837 - accuracy: 0.8310 - val_loss: 0.8412 - val_accuracy: 0.7440\n",
            "Epoch 7/200\n",
            "766/766 [==============================] - 7s 9ms/step - loss: 0.4210 - accuracy: 0.8522 - val_loss: 0.8794 - val_accuracy: 0.7280\n",
            "Epoch 8/200\n",
            "766/766 [==============================] - 7s 9ms/step - loss: 0.3636 - accuracy: 0.8716 - val_loss: 0.9104 - val_accuracy: 0.7440\n",
            "Epoch 9/200\n",
            "766/766 [==============================] - 7s 9ms/step - loss: 0.3239 - accuracy: 0.8874 - val_loss: 0.9954 - val_accuracy: 0.7280\n",
            "Epoch 10/200\n",
            "766/766 [==============================] - 7s 9ms/step - loss: 0.2766 - accuracy: 0.9025 - val_loss: 0.9965 - val_accuracy: 0.7440\n",
            "Epoch 11/200\n",
            "766/766 [==============================] - 6s 8ms/step - loss: 0.2390 - accuracy: 0.9165 - val_loss: 1.1579 - val_accuracy: 0.7240\n",
            "Epoch 12/200\n",
            "766/766 [==============================] - 7s 9ms/step - loss: 0.2061 - accuracy: 0.9296 - val_loss: 1.1433 - val_accuracy: 0.7310\n",
            "Epoch 13/200\n",
            "766/766 [==============================] - 7s 9ms/step - loss: 0.1841 - accuracy: 0.9354 - val_loss: 1.2685 - val_accuracy: 0.7360\n",
            "Epoch 14/200\n",
            "766/766 [==============================] - 7s 9ms/step - loss: 0.1614 - accuracy: 0.9444 - val_loss: 1.3360 - val_accuracy: 0.7350\n",
            "Epoch 15/200\n",
            "766/766 [==============================] - 7s 9ms/step - loss: 0.1516 - accuracy: 0.9494 - val_loss: 1.3287 - val_accuracy: 0.7440\n",
            "Epoch 16/200\n",
            "766/766 [==============================] - 8s 10ms/step - loss: 0.1324 - accuracy: 0.9556 - val_loss: 1.4354 - val_accuracy: 0.7200\n",
            "Epoch 17/200\n",
            "766/766 [==============================] - 7s 10ms/step - loss: 0.1218 - accuracy: 0.9590 - val_loss: 1.6502 - val_accuracy: 0.7190\n",
            "Epoch 18/200\n",
            "766/766 [==============================] - 7s 9ms/step - loss: 0.1151 - accuracy: 0.9605 - val_loss: 1.4607 - val_accuracy: 0.7330\n",
            "Epoch 19/200\n",
            "766/766 [==============================] - 7s 9ms/step - loss: 0.1045 - accuracy: 0.9654 - val_loss: 1.5312 - val_accuracy: 0.7380\n",
            "Epoch 20/200\n",
            "766/766 [==============================] - 7s 9ms/step - loss: 0.0989 - accuracy: 0.9679 - val_loss: 1.7002 - val_accuracy: 0.7250\n"
          ]
        }
      ]
    },
    {
      "cell_type": "code",
      "source": [
        "cifar_model.evaluate(x_test, y_test)"
      ],
      "metadata": {
        "colab": {
          "base_uri": "https://localhost:8080/"
        },
        "id": "w8Ggjuk7Gzt9",
        "outputId": "8f4283bf-8ff4-471d-de57-c841335d9031"
      },
      "execution_count": 57,
      "outputs": [
        {
          "output_type": "stream",
          "name": "stdout",
          "text": [
            "313/313 [==============================] - 2s 5ms/step - loss: 1.5739 - accuracy: 0.7402\n"
          ]
        },
        {
          "output_type": "execute_result",
          "data": {
            "text/plain": [
              "[1.573912501335144, 0.7401999831199646]"
            ]
          },
          "metadata": {},
          "execution_count": 57
        }
      ]
    },
    {
      "cell_type": "code",
      "source": [
        "cifar_model.save('best_cifar.keras')"
      ],
      "metadata": {
        "id": "Yr7SVtJtBRZ4"
      },
      "execution_count": 55,
      "outputs": []
    },
    {
      "cell_type": "markdown",
      "source": [
        "So freezing fewer layers seems to boost accuracy on validation and test sets significantly."
      ],
      "metadata": {
        "id": "eSVcQZG1JWJe"
      }
    },
    {
      "cell_type": "code",
      "source": [],
      "metadata": {
        "id": "Dd-nYPPdJcAe"
      },
      "execution_count": null,
      "outputs": []
    }
  ]
}